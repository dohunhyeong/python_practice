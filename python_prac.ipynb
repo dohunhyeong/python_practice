{
 "cells": [
  {
   "cell_type": "code",
   "execution_count": 1,
   "metadata": {},
   "outputs": [
    {
     "name": "stdout",
     "output_type": "stream",
     "text": [
      "10\n"
     ]
    }
   ],
   "source": [
    "# 가변 인자 리스트\n",
    "# 가변 인자 리스트에 값을 넣게 되면은 이 값들이 튜플 인자로 들어오게 됨.\n",
    "def calc_sum(*args):\n",
    "    total = 0\n",
    "    for arg in args:\n",
    "        total += arg\n",
    "    return total\n",
    "\n",
    "\n",
    "print(calc_sum(1, 2, 3, 4))"
   ]
  },
  {
   "cell_type": "code",
   "execution_count": 4,
   "metadata": {},
   "outputs": [
    {
     "name": "stdout",
     "output_type": "stream",
     "text": [
      "name = eve\n",
      "age = 28\n"
     ]
    }
   ],
   "source": [
    "# 키워드 가변 인자 리스트\n",
    "# 딕셔너리 형태로 전달받은 인자를 key, value의 형태로 저장\n",
    "def print_info(**kwargs):\n",
    "    for key, value in kwargs.items():\n",
    "        print(f\"{key} = {value}\")\n",
    "\n",
    "\n",
    "print_info(name=\"eve\", age=28)"
   ]
  },
  {
   "cell_type": "code",
   "execution_count": 7,
   "metadata": {},
   "outputs": [
    {
     "name": "stdout",
     "output_type": "stream",
     "text": [
      "name = hundo\n",
      "sex = male\n",
      "age = 28\n",
      "address = namgu yongsoro 45\n"
     ]
    }
   ],
   "source": [
    "# 키워드 가변 인자는 딕셔너리를 만들어서 해당 딕셔너리를 전달해도 됨.\n",
    "\n",
    "dict = {\"name\": \"hundo\", \"sex\": \"male\", \"age\": 28, \"address\": \"namgu yongsoro 45\"}\n",
    "# 대신 딕셔너리로 호출할 때는 argument로 집어넣은 딕셔너리 앞에 \"**\" 을 붙여줘야 함.\n",
    "print_info(**dict)"
   ]
  }
 ],
 "metadata": {
  "kernelspec": {
   "display_name": "surv_env",
   "language": "python",
   "name": "python3"
  },
  "language_info": {
   "codemirror_mode": {
    "name": "ipython",
    "version": 3
   },
   "file_extension": ".py",
   "mimetype": "text/x-python",
   "name": "python",
   "nbconvert_exporter": "python",
   "pygments_lexer": "ipython3",
   "version": "3.11.9"
  }
 },
 "nbformat": 4,
 "nbformat_minor": 2
}
